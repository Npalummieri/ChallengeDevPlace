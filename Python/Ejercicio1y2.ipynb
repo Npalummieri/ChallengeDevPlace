{
 "cells": [
  {
   "cell_type": "code",
   "execution_count": null,
   "metadata": {},
   "outputs": [],
   "source": [
    "def primo(): #Ejercicio 1\n",
    "    while True:\n",
    "        try:\n",
    "            numero=int(input(\"Ingrese un numero :\"))\n",
    "            if isinstance(numero,int):#Se revisa que efectivamente cargue un entero \n",
    "                for i in range(2,numero):#Partimos dde el 2 hasta el numero indicado por parametro,descartando en el loop el 1 y el propio 'numero'\n",
    "                    if numero % i == 0:#Si la division entre estos 2 numeros resulta en resto 0 \n",
    "                        print(f\"{numero} no es primo\")\n",
    "                        return False\n",
    "                print(f\"{numero} es primo\")\n",
    "                return True\n",
    "        except (ValueError,NameError):\n",
    "            print(\"Ingrese solo enteros!\")\n",
    "\n",
    "        \n",
    "        \n",
    "        \n",
    "primo()"
   ]
  },
  {
   "cell_type": "code",
   "execution_count": 12,
   "metadata": {},
   "outputs": [
    {
     "name": "stdout",
     "output_type": "stream",
     "text": [
      "Tenes que ejercitar la memoria\n"
     ]
    }
   ],
   "source": [
    "def password():#Ejercicio 2\n",
    "    pw=input(\"Ingrese una contraseña a utilizar :\")#Contraseña elegida por el user almacenada en pw\n",
    "    pwtry=pw #creo otra variable para usarla en el bucle while y comprobar\n",
    "    cont=0 #contador\n",
    "\n",
    "    while pw == pwtry and cont <3: #Mientras los strings sean iguales y el contador no sea mayor a 3\n",
    "        pwtry=input(\"Ingrese nuevamente su contraseña\")\n",
    "        cont=cont+1 #incrementamos la variable cont\n",
    "    if(cont>2): #Use un if else para checkear si ya hizo bien los 3 intentos o directamente va al else en caso que falle no importa en que intento\n",
    "        print(\"Felicitaciones, recordás tu contraseña\")\n",
    "    else:\n",
    "        print(\"Tenes que ejercitar la memoria\")\n",
    "\n",
    "    input(\"Presione tecla para abandonar...\")#Como la ejercitacion pide que quede el msje en pantalla y el user presione algo para salir use un input vacio\n",
    "    exit()\n",
    "\n",
    "    \n",
    "\n",
    "password()"
   ]
  },
  {
   "cell_type": "code",
   "execution_count": 13,
   "metadata": {},
   "outputs": [],
   "source": [
    "\n",
    "    \n",
    "\n"
   ]
  }
 ],
 "metadata": {
  "interpreter": {
   "hash": "dad96f67042eeeb74344ea6518a23907a4ea594515206380d61d04e5100b6800"
  },
  "kernelspec": {
   "display_name": "Python 3.10.1 64-bit",
   "language": "python",
   "name": "python3"
  },
  "language_info": {
   "codemirror_mode": {
    "name": "ipython",
    "version": 3
   },
   "file_extension": ".py",
   "mimetype": "text/x-python",
   "name": "python",
   "nbconvert_exporter": "python",
   "pygments_lexer": "ipython3",
   "version": "3.10.1"
  },
  "orig_nbformat": 4
 },
 "nbformat": 4,
 "nbformat_minor": 2
}
